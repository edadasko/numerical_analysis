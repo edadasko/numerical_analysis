{
 "cells": [
  {
   "cell_type": "markdown",
   "metadata": {},
   "source": [
    "# Лабораторная работа 1.\n",
    "# Решение краевых задач методом разностных аппроксимаций."
   ]
  },
  {
   "cell_type": "code",
   "execution_count": 12,
   "metadata": {},
   "outputs": [],
   "source": [
    "import numpy as np\n",
    "import sympy as sp\n",
    "import pylab\n",
    "import pandas\n",
    "import math\n",
    "\n",
    "def normalize_right_side_of_ode(coefficients, f):\n",
    "    y = sp.Symbol('y')\n",
    "    der_y = sp.Symbol(\"y'\")\n",
    "    p = coefficients[1] / coefficients[0]\n",
    "    q = coefficients[2] / coefficients[0]\n",
    "    f /= coefficients[0]\n",
    "    return -p * der_y - q * y + f\n",
    "\n",
    "def show_plots(answers, dx):\n",
    "    for answer in answers:\n",
    "        xlist = answer.keys()\n",
    "        ylist = answer.values()\n",
    "        pylab.plot (xlist, ylist)\n",
    "    pylab.grid(True)\n",
    "    pylab.show()\n",
    "        \n",
    "def solve_boundary_task_with_difference_method(coefficients, f, conditions, num_of_points):\n",
    "    start_x, end_x = conditions.keys()\n",
    "    step = (end_x - start_x) / (num_of_points - 1)\n",
    "    x_points = np.linspace(start_x, end_x, num=num_of_points)\n",
    "    right_ode_side = normalize_right_side_of_ode(coefficients, f)\n",
    "    y_points = [sp.Symbol('y' + str(n)) for n in range(num_of_points)]\n",
    "    system_of_equations = [y_points[0] - conditions[start_x],\n",
    "                           y_points[num_of_points - 1] - conditions[end_x]]\n",
    "    for i in range(1, num_of_points - 1):\n",
    "        second_derivative = (y_points[i + 1] - 2 * y_points[i] + y_points[i - 1]) / step ** 2\n",
    "        right_side = right_ode_side.subs([(x, x_points[i]),\n",
    "                     (sp.Symbol('y'), y_points[i]),\n",
    "                     (sp.Symbol(\"y'\"), (y_points[i + 1] - y_points[i - 1]) / 2 * step)])\n",
    "        equation = second_derivative - right_side\n",
    "        system_of_equations.append(equation)\n",
    "    found_y = list(sp.linsolve(system_of_equations, y_points))[0]\n",
    "    return dict(zip(x_points, found_y))\n",
    "\n",
    "def max_difference(f1, f2):\n",
    "    f2 = [p[1] for p in f2.items() if p[0] in f1]\n",
    "    f1 = list(f1.values())\n",
    "    differences = [abs(p1 - p2) for p1, p2 in zip(f1, f2)]\n",
    "    return max(differences)\n",
    "\n",
    "def show_table_of_accuracy(data):\n",
    "    col = ['Количество частей разбиения', 'Точность']\n",
    "    display(pandas.DataFrame(data, columns=col))\n",
    "\n",
    "def analize_accuracy(accuracy, task, start_n):\n",
    "    n = start_n\n",
    "    n_answer = task(n)\n",
    "    list_of_answers = [n_answer]\n",
    "    difference = math.inf\n",
    "    data_for_table = []\n",
    "    while difference > accuracy:\n",
    "        twice_n_answer = task(2 * n)\n",
    "        difference = max_difference(n_answer, twice_n_answer)\n",
    "        n_answer = twice_n_answer\n",
    "        list_of_answers.append(n_answer)\n",
    "        n *= 2\n",
    "        data_for_table.append([n, difference])\n",
    "    show_plots(list_of_answers, 0.01)\n",
    "    show_table_of_accuracy(data_for_table)\n",
    "    print(\"Заданная точность достигается при n = {0}\".format(n))"
   ]
  },
  {
   "cell_type": "markdown",
   "metadata": {},
   "source": [
    "$$ 1) y'' + (1 + x^2) * y = -1; $$\n",
    "$$ -1 <= x <= 1; $$\n",
    "$$ y(-1) = y(1) = 0; $$"
   ]
  },
  {
   "cell_type": "code",
   "execution_count": 13,
   "metadata": {},
   "outputs": [
    {
     "data": {
      "image/png": "[encoded data removed]",
      "text/plain": [
       "<Figure size 432x288 with 1 Axes>"
      ]
     },
     "metadata": {
      "needs_background": "light"
     },
     "output_type": "display_data"
    },
    {
     "data": {
      "text/html": [
       "<div>\n",
       "<style scoped>\n",
       "    .dataframe tbody tr th:only-of-type {\n",
       "        vertical-align: middle;\n",
       "    }\n",
       "\n",
       "    .dataframe tbody tr th {\n",
       "        vertical-align: top;\n",
       "    }\n",
       "\n",
       "    .dataframe thead th {\n",
       "        text-align: right;\n",
       "    }\n",
       "</style>\n",
       "<table border=\"1\" class=\"dataframe\">\n",
       "  <thead>\n",
       "    <tr style=\"text-align: right;\">\n",
       "      <th></th>\n",
       "      <th>Количество частей разбиения</th>\n",
       "      <th>Точность</th>\n",
       "    </tr>\n",
       "  </thead>\n",
       "  <tbody>\n",
       "    <tr>\n",
       "      <th>0</th>\n",
       "      <td>4</td>\n",
       "      <td>0.0327868852459017</td>\n",
       "    </tr>\n",
       "    <tr>\n",
       "      <th>1</th>\n",
       "      <td>8</td>\n",
       "      <td>0.0256949473912748</td>\n",
       "    </tr>\n",
       "    <tr>\n",
       "      <th>2</th>\n",
       "      <td>16</td>\n",
       "      <td>0.00706561580170506</td>\n",
       "    </tr>\n",
       "    <tr>\n",
       "      <th>3</th>\n",
       "      <td>32</td>\n",
       "      <td>0.00179722025602258</td>\n",
       "    </tr>\n",
       "    <tr>\n",
       "      <th>4</th>\n",
       "      <td>64</td>\n",
       "      <td>0.000451092845865864</td>\n",
       "    </tr>\n",
       "  </tbody>\n",
       "</table>\n",
       "</div>"
      ],
      "text/plain": [
       "   Количество частей разбиения              Точность\n",
       "0                            4    0.0327868852459017\n",
       "1                            8    0.0256949473912748\n",
       "2                           16   0.00706561580170506\n",
       "3                           32   0.00179722025602258\n",
       "4                           64  0.000451092845865864"
      ]
     },
     "metadata": {},
     "output_type": "display_data"
    },
    {
     "name": "stdout",
     "output_type": "stream",
     "text": [
      "Заданная точность достигается при n = 64\n"
     ]
    }
   ],
   "source": [
    "x = sp.Symbol('x')\n",
    "answer_1 = lambda n: solve_boundary_task_with_difference_method(\n",
    "           [1, 0, 1 + x ** 2], -1,\n",
    "           {-1:0, 1:0}, n + 1)\n",
    "analize_accuracy(0.001, answer_1, 2)"
   ]
  },
  {
   "cell_type": "code",
   "execution_count": 14,
   "metadata": {},
   "outputs": [
    {
     "name": "stdout",
     "output_type": "stream",
     "text": [
      "0.932204238459230\n"
     ]
    }
   ],
   "source": [
    "print(max(answer_1(64).values()))"
   ]
  },
  {
   "cell_type": "markdown",
   "metadata": {},
   "source": [
    "$$ 2) sin(1) * y'' + (1 + cos(1) * x^2) * y = -1;  $$\n",
    "$$-1 <= x <= 1; $$\n",
    "$$ y(-1) = y(1) = 0; $$"
   ]
  },
  {
   "cell_type": "code",
   "execution_count": 15,
   "metadata": {},
   "outputs": [
    {
     "data": {
      "image/png": "[encoded data removed]",
      "text/plain": [
       "<Figure size 432x288 with 1 Axes>"
      ]
     },
     "metadata": {
      "needs_background": "light"
     },
     "output_type": "display_data"
    },
    {
     "data": {
      "text/html": [
       "<div>\n",
       "<style scoped>\n",
       "    .dataframe tbody tr th:only-of-type {\n",
       "        vertical-align: middle;\n",
       "    }\n",
       "\n",
       "    .dataframe tbody tr th {\n",
       "        vertical-align: top;\n",
       "    }\n",
       "\n",
       "    .dataframe thead th {\n",
       "        text-align: right;\n",
       "    }\n",
       "</style>\n",
       "<table border=\"1\" class=\"dataframe\">\n",
       "  <thead>\n",
       "    <tr style=\"text-align: right;\">\n",
       "      <th></th>\n",
       "      <th>Количество частей разбиения</th>\n",
       "      <th>Точность</th>\n",
       "    </tr>\n",
       "  </thead>\n",
       "  <tbody>\n",
       "    <tr>\n",
       "      <th>0</th>\n",
       "      <td>4</td>\n",
       "      <td>0.155581729996628</td>\n",
       "    </tr>\n",
       "    <tr>\n",
       "      <th>1</th>\n",
       "      <td>8</td>\n",
       "      <td>0.0494432450708906</td>\n",
       "    </tr>\n",
       "    <tr>\n",
       "      <th>2</th>\n",
       "      <td>16</td>\n",
       "      <td>0.0124656840039019</td>\n",
       "    </tr>\n",
       "    <tr>\n",
       "      <th>3</th>\n",
       "      <td>32</td>\n",
       "      <td>0.00311573732515735</td>\n",
       "    </tr>\n",
       "    <tr>\n",
       "      <th>4</th>\n",
       "      <td>64</td>\n",
       "      <td>0.000778790856746481</td>\n",
       "    </tr>\n",
       "  </tbody>\n",
       "</table>\n",
       "</div>"
      ],
      "text/plain": [
       "   Количество частей разбиения              Точность\n",
       "0                            4     0.155581729996628\n",
       "1                            8    0.0494432450708906\n",
       "2                           16    0.0124656840039019\n",
       "3                           32   0.00311573732515735\n",
       "4                           64  0.000778790856746481"
      ]
     },
     "metadata": {},
     "output_type": "display_data"
    },
    {
     "name": "stdout",
     "output_type": "stream",
     "text": [
      "Заданная точность достигается при n = 64\n"
     ]
    }
   ],
   "source": [
    "answer_2 = lambda n: solve_boundary_task_with_difference_method(\n",
    "           [math.sin(1), 0, 1 + math.cos(1) * x ** 2], -1,\n",
    "           {-1:0, 1:0}, n + 1)\n",
    "analize_accuracy(0.001, answer_2, 2)"
   ]
  },
  {
   "cell_type": "code",
   "execution_count": 10,
   "metadata": {},
   "outputs": [
    {
     "name": "stdout",
     "output_type": "stream",
     "text": [
      "1.24286806483862\n"
     ]
    }
   ],
   "source": [
    "print (max(answer_2(64).values()))"
   ]
  }
 ],
 "metadata": {
  "kernelspec": {
   "display_name": "Python 3",
   "language": "python",
   "name": "python3"
  },
  "language_info": {
   "codemirror_mode": {
    "name": "ipython",
    "version": 3
   },
   "file_extension": ".py",
   "mimetype": "text/x-python",
   "name": "python",
   "nbconvert_exporter": "python",
   "pygments_lexer": "ipython3",
   "version": "3.7.3"
  }
 },
 "nbformat": 4,
 "nbformat_minor": 2
}
