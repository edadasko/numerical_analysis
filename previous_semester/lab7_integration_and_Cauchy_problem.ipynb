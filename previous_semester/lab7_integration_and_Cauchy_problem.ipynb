{
 "cells": [
  {
   "cell_type": "markdown",
   "metadata": {},
   "source": [
    "# Лабораторная работа №7"
   ]
  },
  {
   "cell_type": "markdown",
   "metadata": {},
   "source": [
    "## Численное интегрирование"
   ]
  },
  {
   "cell_type": "markdown",
   "metadata": {},
   "source": [
    "### f(x) = x^4 / (1 + x^2);      a = 1, b = 2"
   ]
  },
  {
   "cell_type": "code",
   "execution_count": 19,
   "metadata": {},
   "outputs": [
    {
     "data": {
      "image/png": "[encoded data removed]",
      "text/plain": [
       "<Figure size 432x288 with 1 Axes>"
      ]
     },
     "metadata": {
      "needs_background": "light"
     },
     "output_type": "display_data"
    }
   ],
   "source": [
    "import sympy\n",
    "import numpy\n",
    "import pylab\n",
    "from scipy import optimize\n",
    "\n",
    "def f(x):\n",
    "    return (x ** 4) / (1 + x ** 2)\n",
    "a = 1\n",
    "b = 2\n",
    "dx = 0.01\n",
    "xlist = numpy.arange(a, b, dx)\n",
    "ylist = [f(p) for p in xlist]\n",
    "pylab.plot (xlist, ylist)\n",
    "pylab.grid(True)\n",
    "pylab.show()"
   ]
  },
  {
   "cell_type": "markdown",
   "metadata": {},
   "source": [
    "### 1.Найти шаг интегрирования h для вычисления интеграла ∫f(x)dx по формуле трапеций с точностью 0.001."
   ]
  },
  {
   "cell_type": "code",
   "execution_count": 20,
   "metadata": {},
   "outputs": [
    {
     "name": "stdout",
     "output_type": "stream",
     "text": [
      "Количество частей разбиения:  16\n",
      "Шаг интегрирования:  0.0625\n"
     ]
    }
   ],
   "source": [
    "epsilon = 0.001\n",
    "\n",
    "def h(n):\n",
    "    return (b - a) / n\n",
    "\n",
    "def trapeze_uncertainty(h, f):\n",
    "    x = sympy.Symbol('x')\n",
    "    f = f(x)\n",
    "    second_deriv = sympy.lambdify(x, sympy.diff(f, x, 2))\n",
    "    max_second_deriv = second_deriv(optimize.fminbound(lambda k: -abs(second_deriv(k)), a, b))\n",
    "    return max_second_deriv * (abs(b - a) * h ** 2) / 12 \n",
    "\n",
    "def find_n(epsilon, f):\n",
    "    n = 4\n",
    "    eps = trapeze_uncertainty(h(n), f)\n",
    "    while (eps > epsilon):\n",
    "        n += 4\n",
    "        eps = trapeze_uncertainty(h(n), f)\n",
    "    return n    \n",
    "    \n",
    "n = find_n(epsilon, f)\n",
    "print(\"Количество частей разбиения: \", n)\n",
    "step = h(n)\n",
    "print(\"Шаг интегрирования: \", step)"
   ]
  },
  {
   "cell_type": "markdown",
   "metadata": {},
   "source": [
    "### 2. Вычислить интеграл по формуле трапеций с шагами 2h и h. Дать уточненную оценку погрешности."
   ]
  },
  {
   "cell_type": "code",
   "execution_count": 21,
   "metadata": {},
   "outputs": [
    {
     "name": "stdout",
     "output_type": "stream",
     "text": [
      "Значение интеграла с шагом h:  1.6558456113325557\n",
      "Уточненная погрешность:  0.0008138020833159841\n",
      "Значение интеграла с шагом 2 * h:  1.6581308389201457\n",
      "Уточненная погрешность:  0.0032552083332639363\n"
     ]
    }
   ],
   "source": [
    "def trapeze_formula(step, f):\n",
    "    sum = (f(a) + f(b)) / 2\n",
    "    p = a + step\n",
    "    while p < b:\n",
    "        sum += f(p)\n",
    "        p += step\n",
    "    return step * sum\n",
    "\n",
    "print(\"Значение интеграла с шагом h: \", trapeze_formula(step, f))\n",
    "print(\"Уточненная погрешность: \", trapeze_uncertainty(step, f))\n",
    "\n",
    "print(\"Значение интеграла с шагом 2 * h: \", trapeze_formula(step * 2, f))\n",
    "print(\"Уточненная погрешность: \", trapeze_uncertainty(step * 2, f))"
   ]
  },
  {
   "cell_type": "markdown",
   "metadata": {},
   "source": [
    "### 3. Вычислить интеграл по формуле Симпсона с шагами 2h и h. Дать уточненную оценку погрешности."
   ]
  },
  {
   "cell_type": "code",
   "execution_count": 22,
   "metadata": {},
   "outputs": [
    {
     "name": "stdout",
     "output_type": "stream",
     "text": [
      "Значение интеграла с шагом h:  1.655083868803359\n",
      "Уточненная погрешность:  3.178914388003311e-08\n",
      "Значение интеграла с шагом 2 * h:  1.6550836138697629\n",
      "Уточненная погрешность:  5.086263020805298e-07\n"
     ]
    }
   ],
   "source": [
    "def simpsons_formula(step, f):\n",
    "    sum = (f(a) + f(b)) / 2\n",
    "    p = a + step\n",
    "    k = 1\n",
    "    while p < b:\n",
    "        sum += 2 * f(p) if k % 2 == 1 else f(p)\n",
    "        k += 1\n",
    "        p += step\n",
    "    return (2 / 3) * step * sum\n",
    "\n",
    "def simpsons_uncertainty(h, f):\n",
    "    x = sympy.Symbol('x')\n",
    "    f = f(x)\n",
    "    fourth_deriv = sympy.lambdify(x, sympy.diff(f, x, 4))\n",
    "    max_fourth_deriv = fourth_deriv(optimize.fminbound(lambda k: -abs(fourth_deriv(k)), a, b))\n",
    "    return max_fourth_deriv * (abs(b - a) * h ** 4) / 180\n",
    "\n",
    "step = 0.0625\n",
    "print(\"Значение интеграла с шагом h: \", simpsons_formula(step, f))\n",
    "print(\"Уточненная погрешность: \", simpsons_uncertainty(step, f))\n",
    "\n",
    "print(\"Значение интеграла с шагом 2 * h: \", simpsons_formula(step * 2, f))\n",
    "print(\"Уточненная погрешность: \", simpsons_uncertainty(step * 2, f))"
   ]
  },
  {
   "cell_type": "markdown",
   "metadata": {},
   "source": [
    "### 4. Вычислить определенный интеграл по формуле Ньютона–Лейбница. Сравнить приближенные значения интеграла с точными. Какая формула численного интегрирования дала более точный результат?"
   ]
  },
  {
   "cell_type": "code",
   "execution_count": 23,
   "metadata": {},
   "outputs": [
    {
     "name": "stdout",
     "output_type": "stream",
     "text": [
      "Точное решение:  1.6550838877299754\n",
      "Погрешность формулы трапеций: 0.0007617236025803109\n",
      "Погрешность формулы Симпсона: 1.892661649627314e-08\n",
      "Формула Симпсона дала более точный результат.\n"
     ]
    }
   ],
   "source": [
    "def accurate_solution(f):\n",
    "    x = sympy.Symbol('x')\n",
    "    f = f(x)\n",
    "    integral = sympy.lambdify(x, sympy.integrate(f, x))\n",
    "    return integral(b) - integral(a)\n",
    "\n",
    "answer = accurate_solution(f)\n",
    "print(\"Точное решение: \", answer)\n",
    "unc_trapeze = abs(trapeze_formula(step, f) - accurate_solution(f))\n",
    "print(\"Погрешность формулы трапеций:\", unc_trapeze)\n",
    "unc_simpsons = abs(simpsons_formula(step, f) - accurate_solution(f))\n",
    "print(\"Погрешность формулы Симпсона:\", unc_simpsons)\n",
    "print (\"Формула \" + (\"Трапеций \" if unc_trapeze < unc_simpsons else \"Симпсона \") + \"дала более точный результат.\")\n"
   ]
  },
  {
   "cell_type": "markdown",
   "metadata": {},
   "source": [
    "## Решение задачи Коши"
   ]
  },
  {
   "cell_type": "markdown",
   "metadata": {},
   "source": [
    "### y' = 0.5(x − 1)e^x*y^2 - xy, y(0) = 2, a = 0, b = 2"
   ]
  },
  {
   "cell_type": "code",
   "execution_count": 24,
   "metadata": {},
   "outputs": [],
   "source": [
    "import math\n",
    "a = 0\n",
    "b = 2\n",
    "y0 = 2\n",
    "epsilon = 0.0001\n",
    "\n",
    "def f(y, x):\n",
    "    return 0.5 * (x - 1) * math.e ** x * y ** 2 - x * y"
   ]
  },
  {
   "cell_type": "markdown",
   "metadata": {},
   "source": [
    "### 5.Найти шаг интегрирования для решения задачи Коши методом Рунге-Кутта (IV) с точностью 10^-4"
   ]
  },
  {
   "cell_type": "code",
   "execution_count": 25,
   "metadata": {},
   "outputs": [
    {
     "name": "stdout",
     "output_type": "stream",
     "text": [
      "Шаг интегрирования методом Рунге-Кутта:  0.5\n"
     ]
    }
   ],
   "source": [
    "def runge_kutta(x, step):\n",
    "    if x <= a:\n",
    "        return y0\n",
    "    prev_x = x - step\n",
    "    prev_y = runge_kutta(prev_x, step)\n",
    "    F1 = f(prev_y, prev_x)\n",
    "    F2 = f(prev_y + (step / 2) * F1, prev_x + step / 2)\n",
    "    F3 = f(prev_y + (step / 2) * F2, prev_x + step / 2)\n",
    "    F4 = f(prev_y + step * F3, x)\n",
    "    return prev_y + step * (F1 + 2 * F2 + 2 * F3 + F4) / 6\n",
    "    \n",
    "def find_step(epsilon):\n",
    "    h0 = epsilon ** (1/4)\n",
    "    n = int((b - a) // h0)\n",
    "    if n % 2 != 0 :\n",
    "        n += 1\n",
    "    while check_step(n, epsilon):\n",
    "        n = n // 4 * 2\n",
    "    while not check_step(n, epsilon):\n",
    "        n += 2\n",
    "    return (b - a) / n\n",
    "\n",
    "def check_step(n, epsilon):\n",
    "    h = (b - a) / n     \n",
    "    y2 = runge_kutta(a + 2 * h, h)\n",
    "    y2e = runge_kutta(a + 2 * h, h * 2)\n",
    "    eps = (1/15) * abs(y2 - y2e)\n",
    "    return eps < epsilon\n",
    "\n",
    "step = find_step(epsilon)\n",
    "print(\"Шаг интегрирования методом Рунге-Кутта: \", step)"
   ]
  },
  {
   "cell_type": "markdown",
   "metadata": {},
   "source": [
    "### 6. Найти решение задачи Коши на отрезке [a, b] методом Рунге-Кутта (IV), методом Адамса (2-го порядка) с точностью 10^-4. Построить приближенные интегральные кривые."
   ]
  },
  {
   "cell_type": "code",
   "execution_count": 26,
   "metadata": {},
   "outputs": [
    {
     "data": {
      "text/html": [
       "<div>\n",
       "<style scoped>\n",
       "    .dataframe tbody tr th:only-of-type {\n",
       "        vertical-align: middle;\n",
       "    }\n",
       "\n",
       "    .dataframe tbody tr th {\n",
       "        vertical-align: top;\n",
       "    }\n",
       "\n",
       "    .dataframe thead th {\n",
       "        text-align: right;\n",
       "    }\n",
       "</style>\n",
       "<table border=\"1\" class=\"dataframe\">\n",
       "  <thead>\n",
       "    <tr style=\"text-align: right;\">\n",
       "      <th></th>\n",
       "      <th>X</th>\n",
       "      <th>Y</th>\n",
       "      <th>Точное значение Y</th>\n",
       "      <th>Погрешность</th>\n",
       "    </tr>\n",
       "  </thead>\n",
       "  <tbody>\n",
       "    <tr>\n",
       "      <th>0</th>\n",
       "      <td>0.0</td>\n",
       "      <td>2.000000</td>\n",
       "      <td>2.000000</td>\n",
       "      <td>0.000000</td>\n",
       "    </tr>\n",
       "    <tr>\n",
       "      <th>1</th>\n",
       "      <td>0.5</td>\n",
       "      <td>1.213946</td>\n",
       "      <td>1.213061</td>\n",
       "      <td>0.000885</td>\n",
       "    </tr>\n",
       "    <tr>\n",
       "      <th>2</th>\n",
       "      <td>1.0</td>\n",
       "      <td>0.736258</td>\n",
       "      <td>0.735759</td>\n",
       "      <td>0.000499</td>\n",
       "    </tr>\n",
       "    <tr>\n",
       "      <th>3</th>\n",
       "      <td>1.5</td>\n",
       "      <td>0.446620</td>\n",
       "      <td>0.446260</td>\n",
       "      <td>0.000359</td>\n",
       "    </tr>\n",
       "    <tr>\n",
       "      <th>4</th>\n",
       "      <td>2.0</td>\n",
       "      <td>0.271108</td>\n",
       "      <td>0.270671</td>\n",
       "      <td>0.000437</td>\n",
       "    </tr>\n",
       "  </tbody>\n",
       "</table>\n",
       "</div>"
      ],
      "text/plain": [
       "     X         Y  Точное значение Y  Погрешность\n",
       "0  0.0  2.000000           2.000000     0.000000\n",
       "1  0.5  1.213946           1.213061     0.000885\n",
       "2  1.0  0.736258           0.735759     0.000499\n",
       "3  1.5  0.446620           0.446260     0.000359\n",
       "4  2.0  0.271108           0.270671     0.000437"
      ]
     },
     "execution_count": 26,
     "metadata": {},
     "output_type": "execute_result"
    }
   ],
   "source": [
    "import pandas as pd\n",
    "from scipy.integrate import odeint\n",
    "import numpy as np\n",
    "\n",
    "def accurate_solution(x):\n",
    "    sol = odeint(f, y0, [a, x])\n",
    "    return sol[1][0]\n",
    "\n",
    "def show_table(method, step):\n",
    "    points = []\n",
    "    x = a\n",
    "    while x <= b:\n",
    "        r = method(x, step)\n",
    "        acc = accurate_solution(x)\n",
    "        eps = abs(r - acc)\n",
    "        points.append([x, r, acc, eps])\n",
    "        x += step\n",
    "    return pd.DataFrame(points, columns=[\"X\", \"Y\", \"Точное значение Y\", \"Погрешность\"])  \n",
    "\n",
    "show_table(runge_kutta, step)\n"
   ]
  },
  {
   "cell_type": "code",
   "execution_count": 27,
   "metadata": {},
   "outputs": [
    {
     "data": {
      "image/png": "[encoded data removed]",
      "text/plain": [
       "<Figure size 432x288 with 1 Axes>"
      ]
     },
     "metadata": {
      "needs_background": "light"
     },
     "output_type": "display_data"
    }
   ],
   "source": [
    "def show_curve(method, step, text):\n",
    "    xlist = numpy.arange(a, b + step, step)\n",
    "    ylist = []\n",
    "    x = a\n",
    "    while x <= b:\n",
    "        r = method(x, step)\n",
    "        ylist.append(r)\n",
    "        x += step\n",
    "    pylab.plot (xlist, ylist, label = text)\n",
    "    ylist = []\n",
    "    x = a\n",
    "    while x <= b:\n",
    "        r = accurate_solution(x)\n",
    "        ylist.append(r)\n",
    "        x += step\n",
    "    pylab.plot (xlist, ylist, label = \"Точное решение\")\n",
    "    pylab.grid(True)\n",
    "    pylab.legend()\n",
    "    pylab.show()\n",
    "    \n",
    "show_curve(runge_kutta, step, \"Приближенная интегральная кривая методом Рунге-Кутта\")    "
   ]
  },
  {
   "cell_type": "code",
   "execution_count": 28,
   "metadata": {
    "scrolled": false
   },
   "outputs": [],
   "source": [
    "def adams(x, step):\n",
    "    if x <= a:\n",
    "        return y0\n",
    "    prev = runge_kutta(x - step, step)\n",
    "    prevprev = runge_kutta(x - step * 2, step)\n",
    "    predictor = prev + (step / 2) * (3 * f(prev, x - step) - f(prevprev, x - step * 2))\n",
    "    corrector = prev + (step / 2) * (f(prev, x - step) + f(predictor, x))\n",
    "    return corrector"
   ]
  },
  {
   "cell_type": "code",
   "execution_count": 29,
   "metadata": {},
   "outputs": [
    {
     "data": {
      "text/html": [
       "<div>\n",
       "<style scoped>\n",
       "    .dataframe tbody tr th:only-of-type {\n",
       "        vertical-align: middle;\n",
       "    }\n",
       "\n",
       "    .dataframe tbody tr th {\n",
       "        vertical-align: top;\n",
       "    }\n",
       "\n",
       "    .dataframe thead th {\n",
       "        text-align: right;\n",
       "    }\n",
       "</style>\n",
       "<table border=\"1\" class=\"dataframe\">\n",
       "  <thead>\n",
       "    <tr style=\"text-align: right;\">\n",
       "      <th></th>\n",
       "      <th>X</th>\n",
       "      <th>Y</th>\n",
       "      <th>Точное значение Y</th>\n",
       "      <th>Погрешность</th>\n",
       "    </tr>\n",
       "  </thead>\n",
       "  <tbody>\n",
       "    <tr>\n",
       "      <th>0</th>\n",
       "      <td>0.0</td>\n",
       "      <td>2.000000</td>\n",
       "      <td>2.000000</td>\n",
       "      <td>0.000000</td>\n",
       "    </tr>\n",
       "    <tr>\n",
       "      <th>1</th>\n",
       "      <td>0.5</td>\n",
       "      <td>1.360687</td>\n",
       "      <td>1.213061</td>\n",
       "      <td>0.147625</td>\n",
       "    </tr>\n",
       "    <tr>\n",
       "      <th>2</th>\n",
       "      <td>1.0</td>\n",
       "      <td>0.709560</td>\n",
       "      <td>0.735759</td>\n",
       "      <td>0.026199</td>\n",
       "    </tr>\n",
       "    <tr>\n",
       "      <th>3</th>\n",
       "      <td>1.5</td>\n",
       "      <td>0.435934</td>\n",
       "      <td>0.446260</td>\n",
       "      <td>0.010327</td>\n",
       "    </tr>\n",
       "    <tr>\n",
       "      <th>4</th>\n",
       "      <td>2.0</td>\n",
       "      <td>0.267928</td>\n",
       "      <td>0.270671</td>\n",
       "      <td>0.002743</td>\n",
       "    </tr>\n",
       "  </tbody>\n",
       "</table>\n",
       "</div>"
      ],
      "text/plain": [
       "     X         Y  Точное значение Y  Погрешность\n",
       "0  0.0  2.000000           2.000000     0.000000\n",
       "1  0.5  1.360687           1.213061     0.147625\n",
       "2  1.0  0.709560           0.735759     0.026199\n",
       "3  1.5  0.435934           0.446260     0.010327\n",
       "4  2.0  0.267928           0.270671     0.002743"
      ]
     },
     "execution_count": 29,
     "metadata": {},
     "output_type": "execute_result"
    }
   ],
   "source": [
    "show_table(adams, step)"
   ]
  },
  {
   "cell_type": "code",
   "execution_count": 30,
   "metadata": {},
   "outputs": [
    {
     "data": {
      "image/png": "[encoded data removed]",
      "text/plain": [
       "<Figure size 432x288 with 1 Axes>"
      ]
     },
     "metadata": {
      "needs_background": "light"
     },
     "output_type": "display_data"
    }
   ],
   "source": [
    "show_curve(adams, step, \"Приближенная интегральная кривая методом Адамса\")"
   ]
  },
  {
   "cell_type": "markdown",
   "metadata": {},
   "source": [
    "### 7. Найти решение задачи Коши на отрезке [a, b] методом Эйлера. Построить на одном графике (с п. 6) приближенную интегральную кривую."
   ]
  },
  {
   "cell_type": "code",
   "execution_count": 31,
   "metadata": {},
   "outputs": [],
   "source": [
    "def euler(x, step):\n",
    "    if x <= a:\n",
    "        return y0\n",
    "    prev = euler(x - step, step)\n",
    "    return prev + step * f(prev, x)"
   ]
  },
  {
   "cell_type": "code",
   "execution_count": 32,
   "metadata": {},
   "outputs": [
    {
     "data": {
      "text/html": [
       "<div>\n",
       "<style scoped>\n",
       "    .dataframe tbody tr th:only-of-type {\n",
       "        vertical-align: middle;\n",
       "    }\n",
       "\n",
       "    .dataframe tbody tr th {\n",
       "        vertical-align: top;\n",
       "    }\n",
       "\n",
       "    .dataframe thead th {\n",
       "        text-align: right;\n",
       "    }\n",
       "</style>\n",
       "<table border=\"1\" class=\"dataframe\">\n",
       "  <thead>\n",
       "    <tr style=\"text-align: right;\">\n",
       "      <th></th>\n",
       "      <th>X</th>\n",
       "      <th>Y</th>\n",
       "      <th>Точное значение Y</th>\n",
       "      <th>Погрешность</th>\n",
       "    </tr>\n",
       "  </thead>\n",
       "  <tbody>\n",
       "    <tr>\n",
       "      <th>0</th>\n",
       "      <td>0.0</td>\n",
       "      <td>2.000000</td>\n",
       "      <td>2.000000</td>\n",
       "      <td>0.000000</td>\n",
       "    </tr>\n",
       "    <tr>\n",
       "      <th>1</th>\n",
       "      <td>0.5</td>\n",
       "      <td>0.675639</td>\n",
       "      <td>1.213061</td>\n",
       "      <td>0.537422</td>\n",
       "    </tr>\n",
       "    <tr>\n",
       "      <th>2</th>\n",
       "      <td>1.0</td>\n",
       "      <td>0.337820</td>\n",
       "      <td>0.735759</td>\n",
       "      <td>0.397939</td>\n",
       "    </tr>\n",
       "    <tr>\n",
       "      <th>3</th>\n",
       "      <td>1.5</td>\n",
       "      <td>0.148387</td>\n",
       "      <td>0.446260</td>\n",
       "      <td>0.297873</td>\n",
       "    </tr>\n",
       "    <tr>\n",
       "      <th>4</th>\n",
       "      <td>2.0</td>\n",
       "      <td>0.040675</td>\n",
       "      <td>0.270671</td>\n",
       "      <td>0.229996</td>\n",
       "    </tr>\n",
       "  </tbody>\n",
       "</table>\n",
       "</div>"
      ],
      "text/plain": [
       "     X         Y  Точное значение Y  Погрешность\n",
       "0  0.0  2.000000           2.000000     0.000000\n",
       "1  0.5  0.675639           1.213061     0.537422\n",
       "2  1.0  0.337820           0.735759     0.397939\n",
       "3  1.5  0.148387           0.446260     0.297873\n",
       "4  2.0  0.040675           0.270671     0.229996"
      ]
     },
     "execution_count": 32,
     "metadata": {},
     "output_type": "execute_result"
    }
   ],
   "source": [
    "show_table(euler, step)"
   ]
  },
  {
   "cell_type": "code",
   "execution_count": 33,
   "metadata": {},
   "outputs": [
    {
     "data": {
      "image/png": "[encoded data removed]",
      "text/plain": [
       "<Figure size 432x288 with 1 Axes>"
      ]
     },
     "metadata": {
      "needs_background": "light"
     },
     "output_type": "display_data"
    }
   ],
   "source": [
    "xlist = numpy.arange(a, b + step, step)\n",
    "adams_points = []\n",
    "euler_points = []\n",
    "x = a\n",
    "while x <= b:\n",
    "    r = adams(x, step)\n",
    "    r1 = euler(x, step)\n",
    "    adams_points.append(r)\n",
    "    euler_points.append(r1)\n",
    "    x += step\n",
    "pylab.plot (xlist, adams_points,label = \"Приближенная интегральная кривая методом Адамса\", color = (0, 0, 1))\n",
    "pylab.plot (xlist, euler_points,label = \"Приближенная интегральная кривая методом Эйлера\", color = (1, 0, 0))\n",
    "pylab.grid(True)\n",
    "pylab.legend()\n",
    "pylab.show()"
   ]
  },
  {
   "cell_type": "markdown",
   "metadata": {},
   "source": [
    "### 8. Найти точное решение задачи Коши. Сравнить точное решение сприближенными. Найти максимумы модулей отклонений в узловых точках приближенного решения от точного."
   ]
  },
  {
   "cell_type": "code",
   "execution_count": 34,
   "metadata": {},
   "outputs": [
    {
     "data": {
      "text/html": [
       "<div>\n",
       "<style scoped>\n",
       "    .dataframe tbody tr th:only-of-type {\n",
       "        vertical-align: middle;\n",
       "    }\n",
       "\n",
       "    .dataframe tbody tr th {\n",
       "        vertical-align: top;\n",
       "    }\n",
       "\n",
       "    .dataframe thead th {\n",
       "        text-align: right;\n",
       "    }\n",
       "</style>\n",
       "<table border=\"1\" class=\"dataframe\">\n",
       "  <thead>\n",
       "    <tr style=\"text-align: right;\">\n",
       "      <th></th>\n",
       "      <th>X</th>\n",
       "      <th>Точное значение Y</th>\n",
       "      <th>Метод Рунге-Кутта</th>\n",
       "      <th>Погрешность</th>\n",
       "      <th>Метод Адамса</th>\n",
       "      <th>Погрешность</th>\n",
       "      <th>Метод Эйлера</th>\n",
       "      <th>Погрешность</th>\n",
       "    </tr>\n",
       "  </thead>\n",
       "  <tbody>\n",
       "    <tr>\n",
       "      <th>0</th>\n",
       "      <td>0.0</td>\n",
       "      <td>2.000000</td>\n",
       "      <td>2.000000</td>\n",
       "      <td>0.000000</td>\n",
       "      <td>2.000000</td>\n",
       "      <td>0.000000</td>\n",
       "      <td>2.000000</td>\n",
       "      <td>0.000000</td>\n",
       "    </tr>\n",
       "    <tr>\n",
       "      <th>1</th>\n",
       "      <td>0.5</td>\n",
       "      <td>1.213061</td>\n",
       "      <td>1.213946</td>\n",
       "      <td>0.000885</td>\n",
       "      <td>1.360687</td>\n",
       "      <td>0.147625</td>\n",
       "      <td>0.675639</td>\n",
       "      <td>0.537422</td>\n",
       "    </tr>\n",
       "    <tr>\n",
       "      <th>2</th>\n",
       "      <td>1.0</td>\n",
       "      <td>0.735759</td>\n",
       "      <td>0.736258</td>\n",
       "      <td>0.000499</td>\n",
       "      <td>0.709560</td>\n",
       "      <td>0.026199</td>\n",
       "      <td>0.337820</td>\n",
       "      <td>0.397939</td>\n",
       "    </tr>\n",
       "    <tr>\n",
       "      <th>3</th>\n",
       "      <td>1.5</td>\n",
       "      <td>0.446260</td>\n",
       "      <td>0.446620</td>\n",
       "      <td>0.000359</td>\n",
       "      <td>0.435934</td>\n",
       "      <td>0.010327</td>\n",
       "      <td>0.148387</td>\n",
       "      <td>0.297873</td>\n",
       "    </tr>\n",
       "    <tr>\n",
       "      <th>4</th>\n",
       "      <td>2.0</td>\n",
       "      <td>0.270671</td>\n",
       "      <td>0.271108</td>\n",
       "      <td>0.000437</td>\n",
       "      <td>0.267928</td>\n",
       "      <td>0.002743</td>\n",
       "      <td>0.040675</td>\n",
       "      <td>0.229996</td>\n",
       "    </tr>\n",
       "  </tbody>\n",
       "</table>\n",
       "</div>"
      ],
      "text/plain": [
       "     X  Точное значение Y  Метод Рунге-Кутта  Погрешность  Метод Адамса  \\\n",
       "0  0.0           2.000000           2.000000     0.000000      2.000000   \n",
       "1  0.5           1.213061           1.213946     0.000885      1.360687   \n",
       "2  1.0           0.735759           0.736258     0.000499      0.709560   \n",
       "3  1.5           0.446260           0.446620     0.000359      0.435934   \n",
       "4  2.0           0.270671           0.271108     0.000437      0.267928   \n",
       "\n",
       "   Погрешность  Метод Эйлера  Погрешность  \n",
       "0     0.000000      2.000000     0.000000  \n",
       "1     0.147625      0.675639     0.537422  \n",
       "2     0.026199      0.337820     0.397939  \n",
       "3     0.010327      0.148387     0.297873  \n",
       "4     0.002743      0.040675     0.229996  "
      ]
     },
     "execution_count": 34,
     "metadata": {},
     "output_type": "execute_result"
    }
   ],
   "source": [
    "x = a\n",
    "data = []\n",
    "uncertainty_adams = []\n",
    "uncertainty_runge = []\n",
    "uncertainty_euler = []\n",
    "\n",
    "while x <= b:\n",
    "    acc = accurate_solution(x)\n",
    "    eul = euler(x, step)\n",
    "    adam = adams(x, step)\n",
    "    rung = runge_kutta(x, step)\n",
    "    eps_adams = abs(adam - acc)\n",
    "    uncertainty_adams.append(eps_adams)\n",
    "    eps_runge = abs(rung - acc)\n",
    "    uncertainty_runge.append(eps_runge)\n",
    "    eps_euler = abs(eul - acc)\n",
    "    uncertainty_euler.append(eps_euler)\n",
    "    data.append([x, acc, rung, eps_runge, adam, eps_adams, eul, eps_euler])\n",
    "    x += step\n",
    "pd.DataFrame(data, columns=[\"X\", \"Точное значение Y\", \"Метод Рунге-Кутта\", \"Погрешность\",\n",
    "                                   \"Метод Адамса\", \"Погрешность\", \"Метод Эйлера\", \"Погрешность\"]) "
   ]
  },
  {
   "cell_type": "code",
   "execution_count": 35,
   "metadata": {},
   "outputs": [
    {
     "name": "stdout",
     "output_type": "stream",
     "text": [
      "Максимум отклонения в методе Рунге-Кутта:  0.0008847503949003244\n",
      "Максимум отклонения в методе Адамса:  0.14762524462589632\n",
      "Максимум отклонения в методе Эйлера:  0.5374219804069138\n"
     ]
    }
   ],
   "source": [
    "max_uncertainty_runge = max(uncertainty_runge)\n",
    "max_uncertainty_adams = max(uncertainty_adams)\n",
    "max_uncertainty_euler = max(uncertainty_euler)\n",
    "print(\"Максимум отклонения в методе Рунге-Кутта: \", max_uncertainty_runge)\n",
    "print(\"Максимум отклонения в методе Адамса: \", max_uncertainty_adams)\n",
    "print(\"Максимум отклонения в методе Эйлера: \", max_uncertainty_euler)"
   ]
  }
 ],
 "metadata": {
  "kernelspec": {
   "display_name": "Python 3",
   "language": "python",
   "name": "python3"
  },
  "language_info": {
   "codemirror_mode": {
    "name": "ipython",
    "version": 3
   },
   "file_extension": ".py",
   "mimetype": "text/x-python",
   "name": "python",
   "nbconvert_exporter": "python",
   "pygments_lexer": "ipython3",
   "version": "3.7.3"
  }
 },
 "nbformat": 4,
 "nbformat_minor": 2
}
