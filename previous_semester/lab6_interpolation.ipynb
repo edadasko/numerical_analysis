{
 "cells": [
  {
   "cell_type": "markdown",
   "metadata": {},
   "source": [
    "# Лабораторная работа №6"
   ]
  },
  {
   "cell_type": "markdown",
   "metadata": {},
   "source": [
    "### Построим таблицу значений функции согласно варианту:"
   ]
  },
  {
   "cell_type": "code",
   "execution_count": 1,
   "metadata": {},
   "outputs": [
    {
     "data": {
      "text/html": [
       "<div>\n",
       "<style scoped>\n",
       "    .dataframe tbody tr th:only-of-type {\n",
       "        vertical-align: middle;\n",
       "    }\n",
       "\n",
       "    .dataframe tbody tr th {\n",
       "        vertical-align: top;\n",
       "    }\n",
       "\n",
       "    .dataframe thead th {\n",
       "        text-align: right;\n",
       "    }\n",
       "</style>\n",
       "<table border=\"1\" class=\"dataframe\">\n",
       "  <thead>\n",
       "    <tr style=\"text-align: right;\">\n",
       "      <th></th>\n",
       "      <th>0</th>\n",
       "      <th>1</th>\n",
       "      <th>2</th>\n",
       "      <th>3</th>\n",
       "      <th>4</th>\n",
       "      <th>5</th>\n",
       "    </tr>\n",
       "  </thead>\n",
       "  <tbody>\n",
       "    <tr>\n",
       "      <th>X</th>\n",
       "      <td>0.847</td>\n",
       "      <td>1.546</td>\n",
       "      <td>1.834</td>\n",
       "      <td>2.647</td>\n",
       "      <td>2.910</td>\n",
       "      <td>4.0</td>\n",
       "    </tr>\n",
       "    <tr>\n",
       "      <th>Y</th>\n",
       "      <td>-1.104</td>\n",
       "      <td>1.042</td>\n",
       "      <td>0.029</td>\n",
       "      <td>-0.344</td>\n",
       "      <td>-0.449</td>\n",
       "      <td>0.5</td>\n",
       "    </tr>\n",
       "  </tbody>\n",
       "</table>\n",
       "</div>"
      ],
      "text/plain": [
       "       0      1      2      3      4    5\n",
       "X  0.847  1.546  1.834  2.647  2.910  4.0\n",
       "Y -1.104  1.042  0.029 -0.344 -0.449  0.5"
      ]
     },
     "execution_count": 1,
     "metadata": {},
     "output_type": "execute_result"
    }
   ],
   "source": [
    "import pandas as pd\n",
    "data = [[0.847, 1.546, 1.834, 2.647, 2.910, 4.0], [-1.104, 1.042, 0.029, -0.344, -0.449,0.5]]\n",
    "col = []\n",
    "for i in range (6):\n",
    "    col.append(i)\n",
    "pd.DataFrame(data, columns=col, index = ['X', 'Y'])"
   ]
  },
  {
   "cell_type": "markdown",
   "metadata": {},
   "source": [
    "### 1. Построить интерполяционный многочлен Лагранжа.  Вычислить L4 (x1+x2). Построить график многочлена Лагранжа."
   ]
  },
  {
   "cell_type": "code",
   "execution_count": 3,
   "metadata": {
    "scrolled": true
   },
   "outputs": [
    {
     "name": "stdout",
     "output_type": "stream",
     "text": [
      "Многочлен Лагранжа:\n",
      " 1.42484938806099*x**5 - 17.4537182276853*x**4 + 81.9628476046725*x**3 - 183.127689183233*x**2 + 191.94288005512*x - 73.7446470748188\n"
     ]
    },
    {
     "data": {
      "image/png": "[encoded data removed]",
      "text/plain": [
       "<Figure size 432x288 with 1 Axes>"
      ]
     },
     "metadata": {
      "needs_background": "light"
     },
     "output_type": "display_data"
    },
    {
     "data": {
      "image/png": "[encoded data removed]",
      "text/plain": [
       "<Figure size 432x288 with 1 Axes>"
      ]
     },
     "metadata": {
      "needs_background": "light"
     },
     "output_type": "display_data"
    },
    {
     "name": "stdout",
     "output_type": "stream",
     "text": [
      "L5(x1 + x2) =  -0.600272131762771\n"
     ]
    }
   ],
   "source": [
    "import sympy\n",
    "import numpy\n",
    "import pylab\n",
    "list_x = [0.847, 1.546, 1.834, 2.647, 2.910, 4.0]\n",
    "f = {list_x[0]: -1.104, list_x[1]: 1.042, list_x[2]: 0.029, \n",
    "     list_x[3]: -0.344, list_x[4]: -0.449, list_x[5]: 0.5}\n",
    "\n",
    "def basis_polynome(x, i, n):\n",
    "    p = 1\n",
    "    for k in range(n):\n",
    "        if k != i:\n",
    "            p *= (x - list_x[k])/(list_x[i] - list_x[k])        \n",
    "    return p\n",
    "    \n",
    "def lagrange_polynome(x, n):\n",
    "    lagrange = 0\n",
    "    for i in range(n):\n",
    "        lagrange += basis_polynome(x, i, n)*f[list_x[i]]\n",
    "    return sympy.expand(lagrange)\n",
    "        \n",
    "\n",
    "def show_polynome(polynome, text, n, dots):\n",
    "    xmin = 0.7\n",
    "    xmax = 4.1\n",
    "    \n",
    "    dx = 0.01\n",
    "    xlist = numpy.arange(xmin, xmax, dx)\n",
    "    ylist = [polynome(p, n) for p in xlist]\n",
    "    pylab.plot (xlist, ylist, label = text)\n",
    "    if dots:\n",
    "        for i in range(n):\n",
    "            pylab.plot([list_x[i]], [f[list_x[i]]], marker='o', markersize=7, color=\"red\")   \n",
    "    pylab.grid(True)\n",
    "    pylab.legend()\n",
    "    pylab.show()\n",
    "\n",
    "n = 6\n",
    "x = sympy.Symbol('x')\n",
    "print(\"Многочлен Лагранжа:\\n\", lagrange_polynome(x, n))\n",
    "\n",
    "show_polynome(lagrange_polynome, \"Многочлен Лагранжа\", n, True)\n",
    "\n",
    "x = list_x[0] + list_x[1]\n",
    "pylab.plot([list_x[0] + list_x[1]], [lagrange_polynome(x, 5)], marker='o', markersize=7, color=\"red\")\n",
    "show_polynome(lagrange_polynome, \"Многочлен Лагранжа при n = 5\", 5, False)\n",
    "\n",
    "print(\"L5(x1 + x2) = \", lagrange_polynome(x, 5))"
   ]
  },
  {
   "cell_type": "markdown",
   "metadata": {},
   "source": [
    "### 2. Построить таблицы конечных и разделенных разностей."
   ]
  },
  {
   "cell_type": "code",
   "execution_count": 4,
   "metadata": {
    "scrolled": false
   },
   "outputs": [
    {
     "name": "stdout",
     "output_type": "stream",
     "text": [
      "Таблица конечных разностей:\n"
     ]
    },
    {
     "data": {
      "text/html": [
       "<div>\n",
       "<style scoped>\n",
       "    .dataframe tbody tr th:only-of-type {\n",
       "        vertical-align: middle;\n",
       "    }\n",
       "\n",
       "    .dataframe tbody tr th {\n",
       "        vertical-align: top;\n",
       "    }\n",
       "\n",
       "    .dataframe thead th {\n",
       "        text-align: right;\n",
       "    }\n",
       "</style>\n",
       "<table border=\"1\" class=\"dataframe\">\n",
       "  <thead>\n",
       "    <tr style=\"text-align: right;\">\n",
       "      <th></th>\n",
       "      <th>Xk</th>\n",
       "      <th>Yk</th>\n",
       "      <th>1-го порядка</th>\n",
       "      <th>2-го порядка</th>\n",
       "      <th>3-го порядка</th>\n",
       "      <th>4-го порядка</th>\n",
       "      <th>5-го порядка</th>\n",
       "    </tr>\n",
       "  </thead>\n",
       "  <tbody>\n",
       "    <tr>\n",
       "      <th>0</th>\n",
       "      <td>0.847</td>\n",
       "      <td>-1.104</td>\n",
       "      <td>2.146</td>\n",
       "      <td>-3.159</td>\n",
       "      <td>3.799</td>\n",
       "      <td>-4.171</td>\n",
       "      <td>5.329</td>\n",
       "    </tr>\n",
       "    <tr>\n",
       "      <th>1</th>\n",
       "      <td>1.546</td>\n",
       "      <td>1.042</td>\n",
       "      <td>-1.013</td>\n",
       "      <td>0.64</td>\n",
       "      <td>-0.372</td>\n",
       "      <td>1.158</td>\n",
       "      <td>-</td>\n",
       "    </tr>\n",
       "    <tr>\n",
       "      <th>2</th>\n",
       "      <td>1.834</td>\n",
       "      <td>0.029</td>\n",
       "      <td>-0.373</td>\n",
       "      <td>0.268</td>\n",
       "      <td>0.786</td>\n",
       "      <td>-</td>\n",
       "      <td>-</td>\n",
       "    </tr>\n",
       "    <tr>\n",
       "      <th>3</th>\n",
       "      <td>2.647</td>\n",
       "      <td>-0.344</td>\n",
       "      <td>-0.105</td>\n",
       "      <td>1.054</td>\n",
       "      <td>-</td>\n",
       "      <td>-</td>\n",
       "      <td>-</td>\n",
       "    </tr>\n",
       "    <tr>\n",
       "      <th>4</th>\n",
       "      <td>2.910</td>\n",
       "      <td>-0.449</td>\n",
       "      <td>0.949</td>\n",
       "      <td>-</td>\n",
       "      <td>-</td>\n",
       "      <td>-</td>\n",
       "      <td>-</td>\n",
       "    </tr>\n",
       "    <tr>\n",
       "      <th>5</th>\n",
       "      <td>4.000</td>\n",
       "      <td>0.500</td>\n",
       "      <td>-</td>\n",
       "      <td>-</td>\n",
       "      <td>-</td>\n",
       "      <td>-</td>\n",
       "      <td>-</td>\n",
       "    </tr>\n",
       "  </tbody>\n",
       "</table>\n",
       "</div>"
      ],
      "text/plain": [
       "      Xk     Yk 1-го порядка 2-го порядка 3-го порядка 4-го порядка  \\\n",
       "0  0.847 -1.104        2.146       -3.159        3.799       -4.171   \n",
       "1  1.546  1.042       -1.013         0.64       -0.372        1.158   \n",
       "2  1.834  0.029       -0.373        0.268        0.786            -   \n",
       "3  2.647 -0.344       -0.105        1.054            -            -   \n",
       "4  2.910 -0.449        0.949            -            -            -   \n",
       "5  4.000  0.500            -            -            -            -   \n",
       "\n",
       "  5-го порядка  \n",
       "0        5.329  \n",
       "1            -  \n",
       "2            -  \n",
       "3            -  \n",
       "4            -  \n",
       "5            -  "
      ]
     },
     "execution_count": 4,
     "metadata": {},
     "output_type": "execute_result"
    }
   ],
   "source": [
    "from scipy.special import comb\n",
    "\n",
    "def finite_differences(n, k):\n",
    "    diff = 0\n",
    "    for i in range(n + 1):\n",
    "        diff += (-1) ** (n - i) * comb(n, i) * f[list_x[k + i]]\n",
    "    return diff\n",
    "    \n",
    "data = []\n",
    "for i in range(n):\n",
    "    data.append([list_x[i], f[list_x[i]]])\n",
    "    \n",
    "for i in range(0, n):\n",
    "    for j in range (1, n):\n",
    "        if i >= n - j:\n",
    "            data[i].append(\"-\")\n",
    "        else:    \n",
    "            data[i].append(finite_differences(j, i))  \n",
    "    \n",
    "print(\"Таблица конечных разностей:\")\n",
    "pd.DataFrame(data, columns=[\"Xk\", \"Yk\", \"1-го порядка\", \"2-го порядка\", \"3-го порядка\", \"4-го порядка\",\"5-го порядка\" ])"
   ]
  },
  {
   "cell_type": "code",
   "execution_count": 5,
   "metadata": {},
   "outputs": [
    {
     "data": {
      "text/html": [
       "<div>\n",
       "<style scoped>\n",
       "    .dataframe tbody tr th:only-of-type {\n",
       "        vertical-align: middle;\n",
       "    }\n",
       "\n",
       "    .dataframe tbody tr th {\n",
       "        vertical-align: top;\n",
       "    }\n",
       "\n",
       "    .dataframe thead th {\n",
       "        text-align: right;\n",
       "    }\n",
       "</style>\n",
       "<table border=\"1\" class=\"dataframe\">\n",
       "  <thead>\n",
       "    <tr style=\"text-align: right;\">\n",
       "      <th></th>\n",
       "      <th>Xk</th>\n",
       "      <th>Yk</th>\n",
       "      <th>1-го порядка</th>\n",
       "      <th>2-го порядка</th>\n",
       "      <th>3-го порядка</th>\n",
       "      <th>4-го порядка</th>\n",
       "      <th>5-го порядка</th>\n",
       "    </tr>\n",
       "  </thead>\n",
       "  <tbody>\n",
       "    <tr>\n",
       "      <th>0</th>\n",
       "      <td>0.847</td>\n",
       "      <td>-1.104</td>\n",
       "      <td>3.0701</td>\n",
       "      <td>-6.67423</td>\n",
       "      <td>5.25123</td>\n",
       "      <td>-3.51299</td>\n",
       "      <td>1.42485</td>\n",
       "    </tr>\n",
       "    <tr>\n",
       "      <th>1</th>\n",
       "      <td>1.546</td>\n",
       "      <td>1.042</td>\n",
       "      <td>-3.51736</td>\n",
       "      <td>2.77799</td>\n",
       "      <td>-1.99607</td>\n",
       "      <td>0.979558</td>\n",
       "      <td>-</td>\n",
       "    </tr>\n",
       "    <tr>\n",
       "      <th>2</th>\n",
       "      <td>1.834</td>\n",
       "      <td>0.029</td>\n",
       "      <td>-0.458795</td>\n",
       "      <td>0.0553486</td>\n",
       "      <td>0.407765</td>\n",
       "      <td>-</td>\n",
       "      <td>-</td>\n",
       "    </tr>\n",
       "    <tr>\n",
       "      <th>3</th>\n",
       "      <td>2.647</td>\n",
       "      <td>-0.344</td>\n",
       "      <td>-0.39924</td>\n",
       "      <td>0.938567</td>\n",
       "      <td>-</td>\n",
       "      <td>-</td>\n",
       "      <td>-</td>\n",
       "    </tr>\n",
       "    <tr>\n",
       "      <th>4</th>\n",
       "      <td>2.910</td>\n",
       "      <td>-0.449</td>\n",
       "      <td>0.870642</td>\n",
       "      <td>-</td>\n",
       "      <td>-</td>\n",
       "      <td>-</td>\n",
       "      <td>-</td>\n",
       "    </tr>\n",
       "    <tr>\n",
       "      <th>5</th>\n",
       "      <td>4.000</td>\n",
       "      <td>0.500</td>\n",
       "      <td>-</td>\n",
       "      <td>-</td>\n",
       "      <td>-</td>\n",
       "      <td>-</td>\n",
       "      <td>-</td>\n",
       "    </tr>\n",
       "  </tbody>\n",
       "</table>\n",
       "</div>"
      ],
      "text/plain": [
       "      Xk     Yk 1-го порядка 2-го порядка 3-го порядка 4-го порядка  \\\n",
       "0  0.847 -1.104       3.0701     -6.67423      5.25123     -3.51299   \n",
       "1  1.546  1.042     -3.51736      2.77799     -1.99607     0.979558   \n",
       "2  1.834  0.029    -0.458795    0.0553486     0.407765            -   \n",
       "3  2.647 -0.344     -0.39924     0.938567            -            -   \n",
       "4  2.910 -0.449     0.870642            -            -            -   \n",
       "5  4.000  0.500            -            -            -            -   \n",
       "\n",
       "  5-го порядка  \n",
       "0      1.42485  \n",
       "1            -  \n",
       "2            -  \n",
       "3            -  \n",
       "4            -  \n",
       "5            -  "
      ]
     },
     "execution_count": 5,
     "metadata": {},
     "output_type": "execute_result"
    }
   ],
   "source": [
    "def divided_differences(x):\n",
    "    if len(x) == 2:\n",
    "        return (f[x[1]] - f[x[0]]) / (x[1] - x[0])\n",
    "    return (divided_differences(x[1:]) - divided_differences(x[:-1]))/(x[-1] - x[0])\n",
    "\n",
    "def divided_differences(x):\n",
    "    if len(x) == 2:\n",
    "        return (f[x[1]] - f[x[0]]) / (x[1] - x[0])\n",
    "    return (divided_differences(x[1:]) - divided_differences(x[:-1])) / (x[-1] - x[0])\n",
    "\n",
    "divided_diffs = []\n",
    "\n",
    "for j in range(0, n):\n",
    "    d = []\n",
    "    for i in range(j + 1, n):\n",
    "        d.append(divided_differences(list_x[j:i + 1]))\n",
    "    divided_diffs.append(d)\n",
    "    \n",
    "data = []\n",
    "for i in range(n):\n",
    "    data.append([list_x[i], f[list_x[i]]])\n",
    "\n",
    "for i in range(0, n):\n",
    "    for j in range(1, n):\n",
    "        if i >= n - j:\n",
    "            data[i].append(\"-\")\n",
    "        else:\n",
    "            data[i].append(divided_diffs[i][j - 1])\n",
    "\n",
    "pd.DataFrame(data, columns=[\"Xk\", \"Yk\", \"1-го порядка\", \"2-го порядка\", \"3-го порядка\", \"4-го порядка\", \"5-го порядка\"])"
   ]
  },
  {
   "cell_type": "markdown",
   "metadata": {},
   "source": [
    "### 3. Построить полином Ньютона и вычислить значение N4 (x1+x2). Построить график многочлена Ньютона."
   ]
  },
  {
   "cell_type": "code",
   "execution_count": 6,
   "metadata": {},
   "outputs": [
    {
     "name": "stdout",
     "output_type": "stream",
     "text": [
      "Интерполяционный многочлен Ньютона:\n",
      " 1.42484938806099*x**5 - 17.4537182276853*x**4 + 81.9628476046724*x**3 - 183.127689183233*x**2 + 191.94288005512*x - 73.7446470748187\n"
     ]
    },
    {
     "data": {
      "image/png": "[encoded data removed]",
      "text/plain": [
       "<Figure size 432x288 with 1 Axes>"
      ]
     },
     "metadata": {
      "needs_background": "light"
     },
     "output_type": "display_data"
    },
    {
     "data": {
      "image/png": "[encoded data removed]",
      "text/plain": [
       "<Figure size 432x288 with 1 Axes>"
      ]
     },
     "metadata": {
      "needs_background": "light"
     },
     "output_type": "display_data"
    },
    {
     "name": "stdout",
     "output_type": "stream",
     "text": [
      "L5(x1 + x2) =  -0.600272131762772\n"
     ]
    }
   ],
   "source": [
    "def newtone_polynome(x, n):\n",
    "    polynome = f[list_x[0]]\n",
    "    for i in range(1, n):\n",
    "        factor = 1\n",
    "        for j in range(0, i):\n",
    "            factor *= (x - list_x[j])\n",
    "        polynome += divided_differences(list_x[0:i + 1]) * factor    \n",
    "    return sympy.expand(polynome)\n",
    "\n",
    "n = 6\n",
    "x = sympy.Symbol('x')\n",
    "print(\"Интерполяционный многочлен Ньютона:\\n\", newtone_polynome(x, n))\n",
    "\n",
    "show_polynome(newtone_polynome, \"Полином Ньютона\", n, True)\n",
    "\n",
    "x = list_x[0] + list_x[1]\n",
    "pylab.plot([list_x[0] + list_x[1]], [newtone_polynome(x, 5)], marker='o', markersize=7, color=\"red\")\n",
    "show_polynome(newtone_polynome, \"Многочлен Ньютона при n = 5\", 5, False)\n",
    "\n",
    "print(\"L5(x1 + x2) = \", newtone_polynome(x, 5))"
   ]
  },
  {
   "cell_type": "markdown",
   "metadata": {},
   "source": [
    "### 4. Построить интерполяционные сплайны кусочно-линейный и кусочно-квадратичный. Построить графики сплайнов."
   ]
  },
  {
   "cell_type": "code",
   "execution_count": 7,
   "metadata": {},
   "outputs": [
    {
     "data": {
      "image/png": "[encoded data removed]",
      "text/plain": [
       "<Figure size 432x288 with 1 Axes>"
      ]
     },
     "metadata": {
      "needs_background": "light"
     },
     "output_type": "display_data"
    },
    {
     "data": {
      "text/html": [
       "<div>\n",
       "<style scoped>\n",
       "    .dataframe tbody tr th:only-of-type {\n",
       "        vertical-align: middle;\n",
       "    }\n",
       "\n",
       "    .dataframe tbody tr th {\n",
       "        vertical-align: top;\n",
       "    }\n",
       "\n",
       "    .dataframe thead th {\n",
       "        text-align: right;\n",
       "    }\n",
       "</style>\n",
       "<table border=\"1\" class=\"dataframe\">\n",
       "  <thead>\n",
       "    <tr style=\"text-align: right;\">\n",
       "      <th></th>\n",
       "      <th>Диапазон</th>\n",
       "      <th>Сплайн</th>\n",
       "    </tr>\n",
       "  </thead>\n",
       "  <tbody>\n",
       "    <tr>\n",
       "      <th>0</th>\n",
       "      <td>x = 0.847..1.546</td>\n",
       "      <td>3.0701*x - 3.70437</td>\n",
       "    </tr>\n",
       "    <tr>\n",
       "      <th>1</th>\n",
       "      <td>x = 1.546..1.834</td>\n",
       "      <td>-3.51736*x + 6.47984</td>\n",
       "    </tr>\n",
       "    <tr>\n",
       "      <th>2</th>\n",
       "      <td>x = 1.834..2.647</td>\n",
       "      <td>-0.45879*x + 0.87042</td>\n",
       "    </tr>\n",
       "    <tr>\n",
       "      <th>3</th>\n",
       "      <td>x = 2.647..2.91</td>\n",
       "      <td>-0.39924*x + 0.71279</td>\n",
       "    </tr>\n",
       "    <tr>\n",
       "      <th>4</th>\n",
       "      <td>x = 2.91..4.0</td>\n",
       "      <td>0.87064*x - 2.98256</td>\n",
       "    </tr>\n",
       "  </tbody>\n",
       "</table>\n",
       "</div>"
      ],
      "text/plain": [
       "           Диапазон                Сплайн\n",
       "0  x = 0.847..1.546    3.0701*x - 3.70437\n",
       "1  x = 1.546..1.834  -3.51736*x + 6.47984\n",
       "2  x = 1.834..2.647  -0.45879*x + 0.87042\n",
       "3   x = 2.647..2.91  -0.39924*x + 0.71279\n",
       "4     x = 2.91..4.0   0.87064*x - 2.98256"
      ]
     },
     "execution_count": 7,
     "metadata": {},
     "output_type": "execute_result"
    }
   ],
   "source": [
    "def linear_function(x1, x2, x):\n",
    "    a = round((f[x2] - f[x1]) / (x2 - x1), 5)\n",
    "    b = round(f[x1] - a * x1, 5)\n",
    "    return a * x + b\n",
    "\n",
    "def linear_spline(x, n):\n",
    "    for i in range(n - 1):\n",
    "        if x >= list_x[i] and x <= list_x[i + 1]:\n",
    "            return linear_function(list_x[i] , list_x[i + 1], x)\n",
    "    return None    \n",
    "        \n",
    "show_polynome(linear_spline, \"Линейный сплайн\", n, True)\n",
    "\n",
    "x = sympy.Symbol('x')\n",
    "data = []\n",
    "for i in range(n - 1):\n",
    "     data.append([\"x = {0}..{1}\".format(list_x[i], list_x[i + 1]),\n",
    "                  linear_function(list_x[i] , list_x[i + 1], x)])\n",
    "return pd.DataFrame(data, columns=[\"Диапазон\", \"Сплайн\"])"
   ]
  },
  {
   "cell_type": "code",
   "execution_count": 8,
   "metadata": {},
   "outputs": [
    {
     "data": {
      "image/png": "[encoded data removed]",
      "text/plain": [
       "<Figure size 432x288 with 1 Axes>"
      ]
     },
     "metadata": {
      "needs_background": "light"
     },
     "output_type": "display_data"
    },
    {
     "data": {
      "text/html": [
       "<div>\n",
       "<style scoped>\n",
       "    .dataframe tbody tr th:only-of-type {\n",
       "        vertical-align: middle;\n",
       "    }\n",
       "\n",
       "    .dataframe tbody tr th {\n",
       "        vertical-align: top;\n",
       "    }\n",
       "\n",
       "    .dataframe thead th {\n",
       "        text-align: right;\n",
       "    }\n",
       "</style>\n",
       "<table border=\"1\" class=\"dataframe\">\n",
       "  <thead>\n",
       "    <tr style=\"text-align: right;\">\n",
       "      <th></th>\n",
       "      <th>Диапазон</th>\n",
       "      <th>Сплайн</th>\n",
       "    </tr>\n",
       "  </thead>\n",
       "  <tbody>\n",
       "    <tr>\n",
       "      <th>0</th>\n",
       "      <td>x = 0.847..1.546</td>\n",
       "      <td>-6.67423*x**2 + 19.04153*x - 12.44403</td>\n",
       "    </tr>\n",
       "    <tr>\n",
       "      <th>1</th>\n",
       "      <td>x = 1.546..1.834</td>\n",
       "      <td>-6.67423*x**2 + 19.04153*x - 12.44403</td>\n",
       "    </tr>\n",
       "    <tr>\n",
       "      <th>2</th>\n",
       "      <td>x = 1.834..2.647</td>\n",
       "      <td>2.77799*x**2 - 12.90697*x + 14.35645</td>\n",
       "    </tr>\n",
       "    <tr>\n",
       "      <th>3</th>\n",
       "      <td>x = 2.647..2.91</td>\n",
       "      <td>0.05535*x**2 - 0.70682*x + 1.13913</td>\n",
       "    </tr>\n",
       "    <tr>\n",
       "      <th>4</th>\n",
       "      <td>x = 2.91..4.0</td>\n",
       "      <td>0.93857*x**2 - 5.61487*x + 7.94238</td>\n",
       "    </tr>\n",
       "  </tbody>\n",
       "</table>\n",
       "</div>"
      ],
      "text/plain": [
       "           Диапазон                                 Сплайн\n",
       "0  x = 0.847..1.546  -6.67423*x**2 + 19.04153*x - 12.44403\n",
       "1  x = 1.546..1.834  -6.67423*x**2 + 19.04153*x - 12.44403\n",
       "2  x = 1.834..2.647   2.77799*x**2 - 12.90697*x + 14.35645\n",
       "3   x = 2.647..2.91     0.05535*x**2 - 0.70682*x + 1.13913\n",
       "4     x = 2.91..4.0     0.93857*x**2 - 5.61487*x + 7.94238"
      ]
     },
     "execution_count": 8,
     "metadata": {},
     "output_type": "execute_result"
    }
   ],
   "source": [
    "def square_function(x1, x2, x3, x):\n",
    "    a = round((f[x3] - ((x3*(f[x2]-f[x1])+x2*f[x1]-x1*f[x2])/(x2 - x1)))/(x3*(x3 - x1 - x2) + x1*x2), 5)\n",
    "    b = round((f[x2] - f[x1]) / (x2 - x1) - a * (x2 + x1), 5)\n",
    "    c = round((x2*f[x1] - x1 * f[x2])/(x2 - x1) + a*x1*x2, 5)\n",
    "    return a * x ** 2 + b * x + c\n",
    "\n",
    "def square_spline(x, n):\n",
    "    for i in range(1, n - 1):                    \n",
    "        if list_x[i - 1] <= x <= list_x[i + 1]:\n",
    "            return square_function(list_x[i - 1], list_x[i], list_x[i + 1], x)\n",
    "    return None  \n",
    "        \n",
    "show_polynome(square_spline, \"Квадратичный сплайн\", n, True)\n",
    "\n",
    "x = sympy.Symbol('x')\n",
    "data = []\n",
    "for i in range(n - 1):\n",
    "    if i <= 1:\n",
    "        data.append([\"x = {0}..{1}\".format(list_x[i], list_x[i + 1]),\n",
    "                 square_function(list_x[0] , list_x[1], list_x[2], x)])\n",
    "        continue\n",
    "    data.append([\"x = {0}..{1}\".format(list_x[i], list_x[i + 1]),\n",
    "                 square_function(list_x[i - 1] , list_x[i], list_x[i + 1], x)])\n",
    "pd.DataFrame(data, columns=[\"Диапазон\", \"Сплайн\"])"
   ]
  },
  {
   "cell_type": "markdown",
   "metadata": {},
   "source": [
    "### 5. Построить кубический интерполяционный сплайн. Построить график."
   ]
  },
  {
   "cell_type": "code",
   "execution_count": 9,
   "metadata": {},
   "outputs": [
    {
     "data": {
      "image/png": "[encoded data removed]",
      "text/plain": [
       "<Figure size 432x288 with 1 Axes>"
      ]
     },
     "metadata": {
      "needs_background": "light"
     },
     "output_type": "display_data"
    },
    {
     "data": {
      "text/html": [
       "<div>\n",
       "<style scoped>\n",
       "    .dataframe tbody tr th:only-of-type {\n",
       "        vertical-align: middle;\n",
       "    }\n",
       "\n",
       "    .dataframe tbody tr th {\n",
       "        vertical-align: top;\n",
       "    }\n",
       "\n",
       "    .dataframe thead th {\n",
       "        text-align: right;\n",
       "    }\n",
       "</style>\n",
       "<table border=\"1\" class=\"dataframe\">\n",
       "  <thead>\n",
       "    <tr style=\"text-align: right;\">\n",
       "      <th></th>\n",
       "      <th>Диапазон</th>\n",
       "      <th>Сплайн</th>\n",
       "    </tr>\n",
       "  </thead>\n",
       "  <tbody>\n",
       "    <tr>\n",
       "      <th>0</th>\n",
       "      <td>x = 0.847..1.546</td>\n",
       "      <td>-5.243*x**3 + 13.32*x**2 - 5.652*x - 2.688</td>\n",
       "    </tr>\n",
       "    <tr>\n",
       "      <th>1</th>\n",
       "      <td>x = 1.546..1.834</td>\n",
       "      <td>20.53*x**3 - 106.2*x**2 + 179.2*x - 97.94</td>\n",
       "    </tr>\n",
       "    <tr>\n",
       "      <th>2</th>\n",
       "      <td>x = 1.834..2.647</td>\n",
       "      <td>-3.78*x**3 + 27.54*x**2 - 66.32*x + 52.35</td>\n",
       "    </tr>\n",
       "    <tr>\n",
       "      <th>3</th>\n",
       "      <td>x = 2.647..2.91</td>\n",
       "      <td>4.818*x**3 - 40.73*x**2 + 114.3*x - 106.8</td>\n",
       "    </tr>\n",
       "    <tr>\n",
       "      <th>4</th>\n",
       "      <td>x = 2.91..4.0</td>\n",
       "      <td>-0.406*x**3 + 4.872*x**2 - 18.14*x + 21.07</td>\n",
       "    </tr>\n",
       "  </tbody>\n",
       "</table>\n",
       "</div>"
      ],
      "text/plain": [
       "           Диапазон                                      Сплайн\n",
       "0  x = 0.847..1.546  -5.243*x**3 + 13.32*x**2 - 5.652*x - 2.688\n",
       "1  x = 1.546..1.834   20.53*x**3 - 106.2*x**2 + 179.2*x - 97.94\n",
       "2  x = 1.834..2.647   -3.78*x**3 + 27.54*x**2 - 66.32*x + 52.35\n",
       "3   x = 2.647..2.91   4.818*x**3 - 40.73*x**2 + 114.3*x - 106.8\n",
       "4     x = 2.91..4.0  -0.406*x**3 + 4.872*x**2 - 18.14*x + 21.07"
      ]
     },
     "execution_count": 9,
     "metadata": {},
     "output_type": "execute_result"
    }
   ],
   "source": [
    "def calculate_h(k):\n",
    "    return list_x[k] - list_x[k - 1]\n",
    "\n",
    "def calculate_l(k):\n",
    "    return (f[list_x[k]] - f[list_x[k - 1]]) / calculate_h(k)\n",
    "\n",
    "def calculate_delta(k):\n",
    "    if k == 1:\n",
    "        return - (calculate_h(2) / (calculate_h(1) + calculate_h(2))) / 2\n",
    "    return - calculate_h(k + 1) / (2 * calculate_h(k) + 2 * calculate_h(k + 1) + \n",
    "                                  2 * calculate_h(k) * calculate_delta(k - 1))\n",
    "\n",
    "def calculate_lambda(k):\n",
    "    if k == 1:\n",
    "        return (3 / 2) * (calculate_l(2) - calculate_l(1)) / (calculate_h(1) + calculate_h(2))\n",
    "    return (2 * calculate_l(k + 1) - 3 * calculate_l(k) - calculate_h(k) * calculate_lambda(k - 1)) / \\\n",
    "    (2 * calculate_h(k) + 2 * calculate_h(k + 1) + calculate_h(k) * calculate_delta(k - 1))\n",
    "\n",
    "def calculate_a(k):\n",
    "    return f[list_x[k]]\n",
    "\n",
    "def calculate_c(k):   \n",
    "    if k == n - 1 or k == 0:\n",
    "        return 0\n",
    "    return calculate_c(k + 1) * calculate_delta(k) + calculate_lambda(k)\n",
    "\n",
    "def calculate_b(k):\n",
    "    return calculate_l(k) + (2 / 3) * calculate_c(k) * calculate_h(k) + (1 / 3) * calculate_h(k) * calculate_c(k - 1)\n",
    "\n",
    "def calculate_d(k):\n",
    "    return (calculate_c(k) - calculate_c(k - 1)) / (3 * calculate_h(k))\n",
    "        \n",
    "def coub_function(rx, x, k):\n",
    "    a = round(calculate_a(k), 3)\n",
    "    b = round(calculate_b(k), 3)\n",
    "    c = round(calculate_c(k), 3)\n",
    "    d = round(calculate_d(k), 3)\n",
    "    return sympy.N(sympy.expand(a + b * (x - rx) + c * (x - rx) ** 2 + d * (x - rx) ** 3), 4)\n",
    "\n",
    "def coub_spline(x, n):\n",
    "    k = 0\n",
    "    for i in range(n - 1):\n",
    "        k += 1\n",
    "        if x >= list_x[i] and x <= list_x[i + 1]:\n",
    "            return coub_function(list_x[i + 1], x, k)\n",
    "    return None    \n",
    "\n",
    "show_polynome(coub_spline, \"Кубический сплайн\", n, True)\n",
    "\n",
    "x = sympy.Symbol('x')\n",
    "data = []\n",
    "k = 0\n",
    "for i in range(n - 1):\n",
    "    k += 1\n",
    "    data.append([\"x = {0}..{1}\".format(list_x[i], list_x[i + 1]), coub_function(list_x[i + 1], x, k)])\n",
    "pd.DataFrame(data, columns=[\"Диапазон\", \"Сплайн\"])"
   ]
  },
  {
   "cell_type": "markdown",
   "metadata": {},
   "source": [
    "### 6. На одном чертеже с графиком полиномов построить графики сплайнов."
   ]
  },
  {
   "cell_type": "code",
   "execution_count": 10,
   "metadata": {},
   "outputs": [
    {
     "data": {
      "image/png": "[encoded data removed]",
      "text/plain": [
       "<Figure size 432x288 with 1 Axes>"
      ]
     },
     "metadata": {
      "needs_background": "light"
     },
     "output_type": "display_data"
    }
   ],
   "source": [
    "xmin = list_x[0]\n",
    "xmax = list_x[n - 1]\n",
    "    \n",
    "dx = 0.01\n",
    "xlist = numpy.arange(xmin, xmax, dx)\n",
    "ylist = [lagrange_polynome(p, n) for p in xlist]\n",
    "pylab.plot (xlist, ylist, label = \"Полином Лагранжа\", color = (0.4, 0.2, 0.7))\n",
    "ylist = [linear_spline(p, n) for p in xlist]\n",
    "pylab.plot (xlist, ylist, label = \"Линейный сплайн\", color = (0.1, 0.9, 0.1))\n",
    "ylist = [square_spline(p, n) for p in xlist]\n",
    "pylab.plot (xlist, ylist, label = \"Квадратичный сплайн\", color = (0, 0.3, 0.5))\n",
    "ylist = [coub_spline(p, n) for p in xlist]\n",
    "pylab.plot (xlist, ylist, label = \"Кубический сплайн\", color = (0.9, 0.9, 0))\n",
    "for i in range(n):\n",
    "    pylab.plot([list_x[i]], [f[list_x[i]]], marker='o', markersize=7, color=\"red\")\n",
    "pylab.grid(True)\n",
    "pylab.legend()\n",
    "pylab.show()"
   ]
  }
 ],
 "metadata": {
  "kernelspec": {
   "display_name": "Python 3",
   "language": "python",
   "name": "python3"
  },
  "language_info": {
   "codemirror_mode": {
    "name": "ipython",
    "version": 3
   },
   "file_extension": ".py",
   "mimetype": "text/x-python",
   "name": "python",
   "nbconvert_exporter": "python",
   "pygments_lexer": "ipython3",
   "version": "3.7.3"
  }
 },
 "nbformat": 4,
 "nbformat_minor": 2
}
